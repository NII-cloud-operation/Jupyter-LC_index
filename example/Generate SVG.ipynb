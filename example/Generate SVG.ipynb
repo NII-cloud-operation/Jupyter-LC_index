{
 "cells": [
  {
   "cell_type": "markdown",
   "metadata": {},
   "source": [
    "# Creating SVG file using blockdiag\n",
    "\n",
    "blockdiag http://blockdiag.com/en/blockdiag/introduction.html を使ってSVGを生成する例です。"
   ]
  },
  {
   "cell_type": "markdown",
   "metadata": {},
   "source": [
    "## requirements\n",
    "\n",
    "`~/.local/bin/blockdiag`としてツールをインストールします。"
   ]
  },
  {
   "cell_type": "code",
   "execution_count": 1,
   "metadata": {},
   "outputs": [
    {
     "name": "stdout",
     "output_type": "stream",
     "text": [
      "Collecting blockdiag\n",
      "\u001b[?25l  Downloading https://files.pythonhosted.org/packages/30/4b/701205f976ae57beb5cc5cfb488019531d186aa33f81fa48d50ba40a38ea/blockdiag-2.0.1-py3-none-any.whl (2.7MB)\n",
      "\u001b[K     |████████████████████████████████| 2.7MB 164kB/s eta 0:00:01    |█████▌                          | 471kB 94kB/s eta 0:00:24     |█████████████████               | 1.4MB 310kB/s eta 0:00:05\n",
      "\u001b[?25hRequirement already satisfied: Pillow>3.0 in /opt/conda/lib/python3.7/site-packages (from blockdiag) (6.2.1)\n",
      "Collecting funcparserlib\n",
      "  Downloading https://files.pythonhosted.org/packages/cb/f7/b4a59c3ccf67c0082546eaeb454da1a6610e924d2e7a2a21f337ecae7b40/funcparserlib-0.3.6.tar.gz\n",
      "Collecting webcolors\n",
      "  Downloading https://files.pythonhosted.org/packages/12/05/3350559de9714b202e443a9e6312937341bd5f79f4e4f625744295e7dd17/webcolors-1.11.1-py3-none-any.whl\n",
      "Requirement already satisfied: setuptools in /opt/conda/lib/python3.7/site-packages (from blockdiag) (42.0.2.post20191201)\n",
      "Building wheels for collected packages: funcparserlib\n",
      "  Building wheel for funcparserlib (setup.py) ... \u001b[?25ldone\n",
      "\u001b[?25h  Created wheel for funcparserlib: filename=funcparserlib-0.3.6-cp37-none-any.whl size=17449 sha256=0a6d0b14ad35144c78572bf6f2776e74af91338e44cbdc9c88cae8184447d080\n",
      "  Stored in directory: /home/jovyan/.cache/pip/wheels/03/eb/48/ade4df39d3eb30e31518e91e4ee0572ca6c1292a94f782f9da\n",
      "Successfully built funcparserlib\n",
      "Installing collected packages: funcparserlib, webcolors, blockdiag\n",
      "\u001b[33m  WARNING: The script blockdiag is installed in '/home/jovyan/.local/bin' which is not on PATH.\n",
      "  Consider adding this directory to PATH or, if you prefer to suppress this warning, use --no-warn-script-location.\u001b[0m\n",
      "Successfully installed blockdiag-2.0.1 funcparserlib-0.3.6 webcolors-1.11.1\n"
     ]
    }
   ],
   "source": [
    "!pip install blockdiag --user"
   ]
  },
  {
   "cell_type": "markdown",
   "metadata": {},
   "source": [
    "## generate SVG\n",
    "\n",
    "`.diag`スクリプトを記述し、`blockdiag`を実行します。"
   ]
  },
  {
   "cell_type": "code",
   "execution_count": 2,
   "metadata": {},
   "outputs": [
    {
     "data": {
      "text/plain": [
       "'/tmp/tmpruxec1xx'"
      ]
     },
     "execution_count": 2,
     "metadata": {},
     "output_type": "execute_result"
    }
   ],
   "source": [
    "import tempfile\n",
    "work_dir = tempfile.mkdtemp()\n",
    "work_dir"
   ]
  },
  {
   "cell_type": "code",
   "execution_count": 3,
   "metadata": {},
   "outputs": [
    {
     "name": "stdout",
     "output_type": "stream",
     "text": [
      "Writing /tmp/tmpruxec1xx/example.diag\n"
     ]
    }
   ],
   "source": [
    "%%writefile {work_dir}/example.diag\n",
    "{\n",
    "  node_width=200;\n",
    "  span_height=20;\n",
    "  span_width=150;\n",
    "  default_fontsize=18;\n",
    "\n",
    "  group all_files { color=\"#FFFFFF\"; shape=\"line\";\n",
    "    head_left [textcolor=\"red\", style=\"dotted\", width=300, fontsize=16, label=\"Files in the current directory\"];\n",
    "    group { color=\"#8FEFEF\"; shape=\"line\";\n",
    "      group { color=\"#AFEFEF\";\n",
    "        \"Notebook 1.ipynb\" [shape=\"note\", height=100]; \n",
    "        \"...\" [shape = \"dots\", height=5]; \n",
    "        \"Notebook N.ipynb\" [shape=\"note\", height=100]; \n",
    "      }\n",
    "\n",
    "    README.svg [shape =\"note\", height=100];\n",
    "    README.md [shape =\"note\", height=100];\n",
    "    }\n",
    "  }\n",
    "\n",
    "\n",
    "  group view { color=\"#FFFFFF\"; shape=\"line\";\n",
    "    head_right [textcolor=\"red\", style=\"dotted\", width=400, fontsize=16,label=\"SVG diagram on top and Markdown at bottom\"];\n",
    "    group {color=\"#CCCCFF\"; shape=\"line\";\n",
    "      SVG [shape=\"ellipse\", height=150, label=\"SVG Diagram\"];\n",
    "      space_v1 [shape=\"none\"];\n",
    "      list1 [label=\"File List View\", height=150]; \n",
    "      space_v2 [shape=\"none\"];\n",
    "      Markdown [height=200, label=\"Markdown View\"]; \n",
    "    }\n",
    "  }\n",
    "\n",
    "  head_left -> head_right [style=\"none\"];\n",
    "  \"...\" -> list1;\n",
    "  README.svg -> SVG [style=\"10,3,5,3\"];\n",
    "  README.md -> Markdown;\n",
    "}"
   ]
  },
  {
   "cell_type": "code",
   "execution_count": 4,
   "metadata": {},
   "outputs": [],
   "source": [
    "!~/.local/bin/blockdiag -Tsvg {work_dir}/example.diag -o ./example.svg"
   ]
  },
  {
   "cell_type": "code",
   "execution_count": 5,
   "metadata": {},
   "outputs": [
    {
     "data": {
      "image/svg+xml": [
       "<svg viewBox=\"0 0 1150 820\" xmlns=\"http://www.w3.org/2000/svg\" xmlns:inkspace=\"http://www.inkscape.org/namespaces/inkscape\" xmlns:xlink=\"http://www.w3.org/1999/xlink\">\n",
       "  <defs id=\"defs_block\">\n",
       "    <filter height=\"1.504\" id=\"filter_blur\" inkspace:collect=\"always\" width=\"1.1575\" x=\"-0.07875\" y=\"-0.252\">\n",
       "      <feGaussianBlur id=\"feGaussianBlur3780\" inkspace:collect=\"always\" stdDeviation=\"4.2\"/>\n",
       "    </filter>\n",
       "  </defs>\n",
       "  <title>blockdiag</title>\n",
       "  <desc>{\n",
       "  node_width=200;\n",
       "  span_height=20;\n",
       "  span_width=150;\n",
       "  default_fontsize=18;\n",
       "\n",
       "  group all_files { color=&quot;#FFFFFF&quot;; shape=&quot;line&quot;;\n",
       "    head_left [textcolor=&quot;red&quot;, style=&quot;dotted&quot;, width=300, fontsize=16, label=&quot;Files in the current directory&quot;];\n",
       "    group { color=&quot;#8FEFEF&quot;; shape=&quot;line&quot;;\n",
       "      group { color=&quot;#AFEFEF&quot;;\n",
       "        &quot;Notebook 1.ipynb&quot; [shape=&quot;note&quot;, height=100]; \n",
       "        &quot;...&quot; [shape = &quot;dots&quot;, height=5]; \n",
       "        &quot;Notebook N.ipynb&quot; [shape=&quot;note&quot;, height=100]; \n",
       "      }\n",
       "\n",
       "    README.svg [shape =&quot;note&quot;, height=100];\n",
       "    README.md [shape =&quot;note&quot;, height=100];\n",
       "    }\n",
       "  }\n",
       "\n",
       "\n",
       "  group view { color=&quot;#FFFFFF&quot;; shape=&quot;line&quot;;\n",
       "    head_right [textcolor=&quot;red&quot;, style=&quot;dotted&quot;, width=400, fontsize=16,label=&quot;SVG diagram on top and Markdown at bottom&quot;];\n",
       "    group {color=&quot;#CCCCFF&quot;; shape=&quot;line&quot;;\n",
       "      SVG [shape=&quot;ellipse&quot;, height=150, label=&quot;SVG Diagram&quot;];\n",
       "      space_v1 [shape=&quot;none&quot;];\n",
       "      list1 [label=&quot;File List View&quot;, height=150]; \n",
       "      space_v2 [shape=&quot;none&quot;];\n",
       "      Markdown [height=200, label=&quot;Markdown View&quot;]; \n",
       "    }\n",
       "  }\n",
       "\n",
       "  head_left -&gt; head_right [style=&quot;none&quot;];\n",
       "  &quot;...&quot; -&gt; list1;\n",
       "  README.svg -&gt; SVG [style=&quot;10,3,5,3&quot;];\n",
       "  README.md -&gt; Markdown;\n",
       "}\n",
       "</desc>\n",
       "  <rect fill=\"rgb(175,239,239)\" height=\"390\" style=\"filter:url(#filter_blur)\" width=\"336\" x=\"132\" y=\"75\"/>\n",
       "  <rect fill=\"rgb(0,0,0)\" height=\"40\" stroke=\"rgb(0,0,0)\" style=\"filter:url(#filter_blur);opacity:0.7;fill-opacity:1\" width=\"300\" x=\"153\" y=\"26\"/>\n",
       "  <polygon fill=\"rgb(0,0,0)\" points=\"203,111 387,111 403,127 403,211 203,211 203,111\" stroke=\"rgb(0,0,0)\" style=\"filter:url(#filter_blur);opacity:0.7;fill-opacity:1\"/>\n",
       "  <polygon fill=\"rgb(0,0,0)\" points=\"203,341 387,341 403,357 403,441 203,441 203,341\" stroke=\"rgb(0,0,0)\" style=\"filter:url(#filter_blur);opacity:0.7;fill-opacity:1\"/>\n",
       "  <polygon fill=\"rgb(0,0,0)\" points=\"203,486 387,486 403,502 403,586 203,586 203,486\" stroke=\"rgb(0,0,0)\" style=\"filter:url(#filter_blur);opacity:0.7;fill-opacity:1\"/>\n",
       "  <polygon fill=\"rgb(0,0,0)\" points=\"203,656 387,656 403,672 403,756 203,756 203,656\" stroke=\"rgb(0,0,0)\" style=\"filter:url(#filter_blur);opacity:0.7;fill-opacity:1\"/>\n",
       "  <rect fill=\"rgb(0,0,0)\" height=\"40\" stroke=\"rgb(0,0,0)\" style=\"filter:url(#filter_blur);opacity:0.7;fill-opacity:1\" width=\"400\" x=\"603\" y=\"26\"/>\n",
       "  <ellipse cx=\"803\" cy=\"161\" fill=\"rgb(0,0,0)\" rx=\"100.0\" ry=\"75.0\" stroke=\"rgb(0,0,0)\" style=\"filter:url(#filter_blur);opacity:0.7;fill-opacity:1\"/>\n",
       "  <rect fill=\"rgb(0,0,0)\" height=\"150\" stroke=\"rgb(0,0,0)\" style=\"filter:url(#filter_blur);opacity:0.7;fill-opacity:1\" width=\"200\" x=\"703\" y=\"316\"/>\n",
       "  <rect fill=\"rgb(0,0,0)\" height=\"200\" stroke=\"rgb(0,0,0)\" style=\"filter:url(#filter_blur);opacity:0.7;fill-opacity:1\" width=\"200\" x=\"703\" y=\"606\"/>\n",
       "  <rect fill=\"rgb(255,255,255)\" height=\"40\" stroke=\"rgb(0,0,0)\" stroke-dasharray=\"2\" width=\"300\" x=\"150\" y=\"20\"/>\n",
       "  <text fill=\"rgb(255,0,0)\" font-family=\"sans-serif\" font-size=\"16\" font-style=\"normal\" font-weight=\"normal\" text-anchor=\"middle\" textLength=\"261\" x=\"300.5\" y=\"48\">Files in the current directory</text>\n",
       "  <polygon fill=\"rgb(255,255,255)\" points=\"200,105 384,105 400,121 400,205 200,205 200,105\" stroke=\"rgb(0,0,0)\"/>\n",
       "  <path d=\"M 384 105 L 384 121\" fill=\"none\" stroke=\"rgb(0,0,0)\"/>\n",
       "  <path d=\"M 384 121 L 400 121\" fill=\"none\" stroke=\"rgb(0,0,0)\"/>\n",
       "  <text fill=\"rgb(0,0,0)\" font-family=\"sans-serif\" font-size=\"18\" font-style=\"normal\" font-weight=\"normal\" text-anchor=\"middle\" textLength=\"157\" x=\"300.5\" y=\"164\">Notebook 1.ipynb</text>\n",
       "  <ellipse cx=\"300.0\" cy=\"270.0\" fill=\"rgb(0,0,0)\" rx=\"4.0\" ry=\"4.0\" stroke=\"rgb(0,0,0)\"/>\n",
       "  <ellipse cx=\"300.0\" cy=\"250.0\" fill=\"rgb(0,0,0)\" rx=\"4.0\" ry=\"4.0\" stroke=\"rgb(0,0,0)\"/>\n",
       "  <ellipse cx=\"300.0\" cy=\"290.0\" fill=\"rgb(0,0,0)\" rx=\"4.0\" ry=\"4.0\" stroke=\"rgb(0,0,0)\"/>\n",
       "  <polygon fill=\"rgb(255,255,255)\" points=\"200,335 384,335 400,351 400,435 200,435 200,335\" stroke=\"rgb(0,0,0)\"/>\n",
       "  <path d=\"M 384 335 L 384 351\" fill=\"none\" stroke=\"rgb(0,0,0)\"/>\n",
       "  <path d=\"M 384 351 L 400 351\" fill=\"none\" stroke=\"rgb(0,0,0)\"/>\n",
       "  <text fill=\"rgb(0,0,0)\" font-family=\"sans-serif\" font-size=\"18\" font-style=\"normal\" font-weight=\"normal\" text-anchor=\"middle\" textLength=\"157\" x=\"300.5\" y=\"394\">Notebook N.ipynb</text>\n",
       "  <polygon fill=\"rgb(255,255,255)\" points=\"200,480 384,480 400,496 400,580 200,580 200,480\" stroke=\"rgb(0,0,0)\"/>\n",
       "  <path d=\"M 384 480 L 384 496\" fill=\"none\" stroke=\"rgb(0,0,0)\"/>\n",
       "  <path d=\"M 384 496 L 400 496\" fill=\"none\" stroke=\"rgb(0,0,0)\"/>\n",
       "  <text fill=\"rgb(0,0,0)\" font-family=\"sans-serif\" font-size=\"18\" font-style=\"normal\" font-weight=\"normal\" text-anchor=\"middle\" textLength=\"98\" x=\"300.0\" y=\"539\">README.svg</text>\n",
       "  <polygon fill=\"rgb(255,255,255)\" points=\"200,650 384,650 400,666 400,750 200,750 200,650\" stroke=\"rgb(0,0,0)\"/>\n",
       "  <path d=\"M 384 650 L 384 666\" fill=\"none\" stroke=\"rgb(0,0,0)\"/>\n",
       "  <path d=\"M 384 666 L 400 666\" fill=\"none\" stroke=\"rgb(0,0,0)\"/>\n",
       "  <text fill=\"rgb(0,0,0)\" font-family=\"sans-serif\" font-size=\"18\" font-style=\"normal\" font-weight=\"normal\" text-anchor=\"middle\" textLength=\"88\" x=\"300.0\" y=\"709\">README.md</text>\n",
       "  <rect fill=\"rgb(255,255,255)\" height=\"40\" stroke=\"rgb(0,0,0)\" stroke-dasharray=\"2\" width=\"400\" x=\"600\" y=\"20\"/>\n",
       "  <text fill=\"rgb(255,0,0)\" font-family=\"sans-serif\" font-size=\"16\" font-style=\"normal\" font-weight=\"normal\" text-anchor=\"middle\" textLength=\"357\" x=\"800.5\" y=\"48\">SVG diagram on top and Markdown at bottom</text>\n",
       "  <ellipse cx=\"800\" cy=\"155\" fill=\"rgb(255,255,255)\" rx=\"100.0\" ry=\"75.0\" stroke=\"rgb(0,0,0)\"/>\n",
       "  <text fill=\"rgb(0,0,0)\" font-family=\"sans-serif\" font-size=\"18\" font-style=\"normal\" font-weight=\"normal\" text-anchor=\"middle\" textLength=\"108\" x=\"800.0\" y=\"164\">SVG Diagram</text>\n",
       "  <rect fill=\"rgb(255,255,255)\" height=\"150\" stroke=\"rgb(0,0,0)\" width=\"200\" x=\"700\" y=\"310\"/>\n",
       "  <text fill=\"rgb(0,0,0)\" font-family=\"sans-serif\" font-size=\"18\" font-style=\"normal\" font-weight=\"normal\" text-anchor=\"middle\" textLength=\"137\" x=\"800.5\" y=\"394\">File List View</text>\n",
       "  <rect fill=\"rgb(255,255,255)\" height=\"200\" stroke=\"rgb(0,0,0)\" width=\"200\" x=\"700\" y=\"600\"/>\n",
       "  <text fill=\"rgb(0,0,0)\" font-family=\"sans-serif\" font-size=\"18\" font-style=\"normal\" font-weight=\"normal\" text-anchor=\"middle\" textLength=\"127\" x=\"800.5\" y=\"709\">Markdown View</text>\n",
       "  <path d=\"M 400 530 L 563 530\" fill=\"none\" stroke=\"rgb(0,0,0)\" stroke-dasharray=\"10 3 5 3\"/>\n",
       "  <path d=\"M 563 530 L 563 155\" fill=\"none\" stroke=\"rgb(0,0,0)\" stroke-dasharray=\"10 3 5 3\"/>\n",
       "  <path d=\"M 563 155 L 692 155\" fill=\"none\" stroke=\"rgb(0,0,0)\" stroke-dasharray=\"10 3 5 3\"/>\n",
       "  <polygon fill=\"rgb(0,0,0)\" points=\"699,155 692,151 692,159 699,155\" stroke=\"rgb(0,0,0)\"/>\n",
       "  <path d=\"M 400 700 L 692 700\" fill=\"none\" stroke=\"rgb(0,0,0)\"/>\n",
       "  <polygon fill=\"rgb(0,0,0)\" points=\"699,700 692,696 692,704 699,700\" stroke=\"rgb(0,0,0)\"/>\n",
       "  <path d=\"M 400 270 L 525 270\" fill=\"none\" stroke=\"rgb(0,0,0)\"/>\n",
       "  <path d=\"M 525 270 L 525 385\" fill=\"none\" stroke=\"rgb(0,0,0)\"/>\n",
       "  <path d=\"M 525 385 L 559.0 385\" fill=\"none\" stroke=\"rgb(0,0,0)\"/>\n",
       "  <path d=\"M 559.0 385.0 A4.0,4.0 0 0 1 567.0 385.0\" fill=\"none\" stroke=\"rgb(0,0,0)\"/>\n",
       "  <path d=\"M 567.0 385 L 692 385\" fill=\"none\" stroke=\"rgb(0,0,0)\"/>\n",
       "  <polygon fill=\"rgb(0,0,0)\" points=\"699,385 692,381 692,389 699,385\" stroke=\"rgb(0,0,0)\"/>\n",
       "  <path d=\"M 400 270 L 525 270\" fill=\"none\" stroke=\"rgb(0,0,0)\"/>\n",
       "  <path d=\"M 525 270 L 525 385\" fill=\"none\" stroke=\"rgb(0,0,0)\"/>\n",
       "  <path d=\"M 525 385 L 559.0 385\" fill=\"none\" stroke=\"rgb(0,0,0)\"/>\n",
       "  <path d=\"M 559.0 385.0 A4.0,4.0 0 0 1 567.0 385.0\" fill=\"none\" stroke=\"rgb(0,0,0)\"/>\n",
       "  <path d=\"M 567.0 385 L 692 385\" fill=\"none\" stroke=\"rgb(0,0,0)\"/>\n",
       "  <polygon fill=\"rgb(0,0,0)\" points=\"699,385 692,381 692,389 699,385\" stroke=\"rgb(0,0,0)\"/>\n",
       "  <path d=\"M 400 530 L 563 530\" fill=\"none\" stroke=\"rgb(0,0,0)\" stroke-dasharray=\"10 3 5 3\"/>\n",
       "  <path d=\"M 563 530 L 563 155\" fill=\"none\" stroke=\"rgb(0,0,0)\" stroke-dasharray=\"10 3 5 3\"/>\n",
       "  <path d=\"M 563 155 L 692 155\" fill=\"none\" stroke=\"rgb(0,0,0)\" stroke-dasharray=\"10 3 5 3\"/>\n",
       "  <polygon fill=\"rgb(0,0,0)\" points=\"699,155 692,151 692,159 699,155\" stroke=\"rgb(0,0,0)\"/>\n",
       "  <path d=\"M 400 700 L 692 700\" fill=\"none\" stroke=\"rgb(0,0,0)\"/>\n",
       "  <polygon fill=\"rgb(0,0,0)\" points=\"699,700 692,696 692,704 699,700\" stroke=\"rgb(0,0,0)\"/>\n",
       "  <path d=\"M 400 270 L 525 270\" fill=\"none\" stroke=\"rgb(0,0,0)\"/>\n",
       "  <path d=\"M 525 270 L 525 385\" fill=\"none\" stroke=\"rgb(0,0,0)\"/>\n",
       "  <path d=\"M 525 385 L 559.0 385\" fill=\"none\" stroke=\"rgb(0,0,0)\"/>\n",
       "  <path d=\"M 559.0 385.0 A4.0,4.0 0 0 1 567.0 385.0\" fill=\"none\" stroke=\"rgb(0,0,0)\"/>\n",
       "  <path d=\"M 567.0 385 L 692 385\" fill=\"none\" stroke=\"rgb(0,0,0)\"/>\n",
       "  <polygon fill=\"rgb(0,0,0)\" points=\"699,385 692,381 692,389 699,385\" stroke=\"rgb(0,0,0)\"/>\n",
       "  <path d=\"M 400 270 L 525 270\" fill=\"none\" stroke=\"rgb(0,0,0)\"/>\n",
       "  <path d=\"M 525 270 L 525 385\" fill=\"none\" stroke=\"rgb(0,0,0)\"/>\n",
       "  <path d=\"M 525 385 L 559.0 385\" fill=\"none\" stroke=\"rgb(0,0,0)\"/>\n",
       "  <path d=\"M 559.0 385.0 A4.0,4.0 0 0 1 567.0 385.0\" fill=\"none\" stroke=\"rgb(0,0,0)\"/>\n",
       "  <path d=\"M 567.0 385 L 692 385\" fill=\"none\" stroke=\"rgb(0,0,0)\"/>\n",
       "  <polygon fill=\"rgb(0,0,0)\" points=\"699,385 692,381 692,389 699,385\" stroke=\"rgb(0,0,0)\"/>\n",
       "  <rect fill=\"none\" height=\"790\" stroke=\"rgb(255,255,255)\" stroke-width=\"3\" width=\"336\" x=\"132\" y=\"15\"/>\n",
       "  <rect fill=\"none\" height=\"730\" stroke=\"rgb(143,239,239)\" stroke-width=\"3\" width=\"336\" x=\"132\" y=\"75\"/>\n",
       "  <rect fill=\"none\" height=\"790\" stroke=\"rgb(255,255,255)\" stroke-width=\"3\" width=\"436\" x=\"582\" y=\"15\"/>\n",
       "  <rect fill=\"none\" height=\"730\" stroke=\"rgb(204,204,255)\" stroke-width=\"3\" width=\"436\" x=\"582\" y=\"75\"/>\n",
       "</svg>"
      ],
      "text/plain": [
       "<IPython.core.display.SVG object>"
      ]
     },
     "execution_count": 5,
     "metadata": {},
     "output_type": "execute_result"
    }
   ],
   "source": [
    "from IPython.display import SVG\n",
    "SVG('./example.svg')"
   ]
  },
  {
   "cell_type": "code",
   "execution_count": null,
   "metadata": {},
   "outputs": [],
   "source": []
  }
 ],
 "metadata": {
  "kernelspec": {
   "display_name": "Python 3",
   "language": "python",
   "name": "python3"
  },
  "language_info": {
   "codemirror_mode": {
    "name": "ipython",
    "version": 3
   },
   "file_extension": ".py",
   "mimetype": "text/x-python",
   "name": "python",
   "nbconvert_exporter": "python",
   "pygments_lexer": "ipython3",
   "version": "3.7.3"
  }
 },
 "nbformat": 4,
 "nbformat_minor": 4
}
